{
 "cells": [
  {
   "cell_type": "markdown",
   "id": "2a125d78-bb57-44a0-8515-22353f1363ed",
   "metadata": {},
   "source": [
    "# Data Science Tools and Ecosystem"
   ]
  },
  {
   "cell_type": "markdown",
   "id": "15b10cc6-705a-497f-9f3c-856f2ec9f22c",
   "metadata": {},
   "source": [
    "Data Science Tools will be summarized in this notebook."
   ]
  },
  {
   "cell_type": "markdown",
   "id": "16099453-3971-45d9-9bb8-920763daf09c",
   "metadata": {},
   "source": [
    "Author\n",
    "Rodrigo"
   ]
  },
  {
   "cell_type": "markdown",
   "id": "e258b271-b0b6-4f58-af2d-ac57f5734e92",
   "metadata": {},
   "source": [
    "**Objectives:**\n",
    "· Learn about some popular programming languages such as python.\n",
    "· Learn about some popular libraries such as NumPy.\n",
    "· Learn about some popular Data Science Tools such as Hadoop."
   ]
  },
  {
   "cell_type": "markdown",
   "id": "3487733e-dbbc-4034-bebd-86b8af7597a1",
   "metadata": {},
   "source": [
    "Among all programming languages there are, these presented below are some of the ones used in Data Science:"
   ]
  },
  {
   "cell_type": "markdown",
   "id": "666c4245-c53e-4470-a51f-b931a94c3049",
   "metadata": {},
   "source": [
    "1. Python\n",
    "2. R\n",
    "3. Julia"
   ]
  },
  {
   "cell_type": "markdown",
   "id": "6c31ed2b-ce57-4aa3-8c10-7f85b32ae0dd",
   "metadata": {},
   "source": [
    "Regarding libraries some of the most used by Data Scientists are:\n",
    "1. NumPy\n",
    "2. Pandas\n",
    "3. Matplotlib"
   ]
  },
  {
   "cell_type": "markdown",
   "id": "6243bb77-cd67-4221-a74a-9c3e2aa40d5f",
   "metadata": {},
   "source": [
    "| Data Science Tools |\n",
    "| ------ |\n",
    "| Hadoop  |\n",
    "| Spark |\n",
    "| TensorFlow.js  |"
   ]
  },
  {
   "cell_type": "markdown",
   "id": "20ecfd07-f1bc-4e85-b3b2-d46522f18b1b",
   "metadata": {},
   "source": [
    "### Some arithmetic expression examples we can do with Python are:"
   ]
  },
  {
   "cell_type": "code",
   "execution_count": 4,
   "id": "c27f4fac-fefc-4ed8-a0d8-cc12d6361ebc",
   "metadata": {},
   "outputs": [
    {
     "data": {
      "text/plain": [
       "17"
      ]
     },
     "execution_count": 4,
     "metadata": {},
     "output_type": "execute_result"
    }
   ],
   "source": [
    "#This is a very simple example of multiplication and addition\n",
    "(3*4)+5"
   ]
  },
  {
   "cell_type": "code",
   "execution_count": 6,
   "id": "31b056a7-0d0f-4ec0-a6aa-9451cd044d98",
   "metadata": {},
   "outputs": [
    {
     "data": {
      "text/plain": [
       "3.3333333333333335"
      ]
     },
     "execution_count": 6,
     "metadata": {},
     "output_type": "execute_result"
    }
   ],
   "source": [
    "#the following expression converts 200 minutes to hours through division\n",
    "200/60"
   ]
  }
 ],
 "metadata": {
  "kernelspec": {
   "display_name": "Python 3 (ipykernel)",
   "language": "python",
   "name": "python3"
  },
  "language_info": {
   "codemirror_mode": {
    "name": "ipython",
    "version": 3
   },
   "file_extension": ".py",
   "mimetype": "text/x-python",
   "name": "python",
   "nbconvert_exporter": "python",
   "pygments_lexer": "ipython3",
   "version": "3.11.5"
  }
 },
 "nbformat": 4,
 "nbformat_minor": 5
}
